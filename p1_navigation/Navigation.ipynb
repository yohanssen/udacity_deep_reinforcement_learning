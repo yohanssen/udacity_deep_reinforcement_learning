{
 "cells": [
  {
   "cell_type": "markdown",
   "metadata": {},
   "source": [
    "# Navigation\n",
    "\n",
    "---\n",
    "\n",
    "You are welcome to use this coding environment to train your agent for the project.  Follow the instructions below to get started!\n",
    "\n",
    "### 1. Start the Environment\n",
    "\n",
    "Run the next code cell to install a few packages.  This line will take a few minutes to run!"
   ]
  },
  {
   "cell_type": "code",
   "execution_count": 1,
   "metadata": {},
   "outputs": [
    {
     "name": "stdout",
     "output_type": "stream",
     "text": [
      "\u001b[31mtensorflow 1.7.1 has requirement numpy>=1.13.3, but you'll have numpy 1.12.1 which is incompatible.\u001b[0m\r\n",
      "\u001b[31mipython 6.5.0 has requirement prompt-toolkit<2.0.0,>=1.0.15, but you'll have prompt-toolkit 3.0.5 which is incompatible.\u001b[0m\r\n"
     ]
    }
   ],
   "source": [
    "!pip -q install ./python"
   ]
  },
  {
   "cell_type": "markdown",
   "metadata": {},
   "source": [
    "The environment is already saved in the Workspace and can be accessed at the file path provided below.  Please run the next code cell without making any changes."
   ]
  },
  {
   "cell_type": "code",
   "execution_count": 2,
   "metadata": {},
   "outputs": [
    {
     "name": "stderr",
     "output_type": "stream",
     "text": [
      "INFO:unityagents:\n",
      "'Academy' started successfully!\n",
      "Unity Academy name: Academy\n",
      "        Number of Brains: 1\n",
      "        Number of External Brains : 1\n",
      "        Lesson number : 0\n",
      "        Reset Parameters :\n",
      "\t\t\n",
      "Unity brain name: BananaBrain\n",
      "        Number of Visual Observations (per agent): 0\n",
      "        Vector Observation space type: continuous\n",
      "        Vector Observation space size (per agent): 37\n",
      "        Number of stacked Vector Observation: 1\n",
      "        Vector Action space type: discrete\n",
      "        Vector Action space size (per agent): 4\n",
      "        Vector Action descriptions: , , , \n"
     ]
    }
   ],
   "source": [
    "from unityagents import UnityEnvironment\n",
    "import numpy as np\n",
    "\n",
    "import random\n",
    "import torch\n",
    "import numpy as np\n",
    "from collections import deque\n",
    "import matplotlib.pyplot as plt\n",
    "%matplotlib inline\n",
    "\n",
    "plt.ion()\n",
    "\n",
    "# please do not modify the line below\n",
    "env = UnityEnvironment(file_name=\"/data/Banana_Linux_NoVis/Banana.x86_64\")"
   ]
  },
  {
   "cell_type": "markdown",
   "metadata": {},
   "source": [
    "Environments contain **_brains_** which are responsible for deciding the actions of their associated agents. Here we check for the first brain available, and set it as the default brain we will be controlling from Python."
   ]
  },
  {
   "cell_type": "code",
   "execution_count": 3,
   "metadata": {},
   "outputs": [],
   "source": [
    "# get the default brain\n",
    "brain_name = env.brain_names[0]\n",
    "brain = env.brains[brain_name]"
   ]
  },
  {
   "cell_type": "markdown",
   "metadata": {},
   "source": [
    "### 2. Examine the State and Action Spaces\n",
    "\n",
    "Run the code cell below to print some information about the environment."
   ]
  },
  {
   "cell_type": "code",
   "execution_count": 4,
   "metadata": {},
   "outputs": [
    {
     "name": "stdout",
     "output_type": "stream",
     "text": [
      "Number of agents: 1\n",
      "Number of actions: 4\n",
      "States look like: [ 1.          0.          0.          0.          0.84408134  0.          0.\n",
      "  1.          0.          0.0748472   0.          1.          0.          0.\n",
      "  0.25755     1.          0.          0.          0.          0.74177343\n",
      "  0.          1.          0.          0.          0.25854847  0.          0.\n",
      "  1.          0.          0.09355672  0.          1.          0.          0.\n",
      "  0.31969345  0.          0.        ]\n",
      "States have length: 37\n"
     ]
    }
   ],
   "source": [
    "# reset the environment\n",
    "env_info = env.reset(train_mode=True)[brain_name]\n",
    "\n",
    "# number of agents in the environment\n",
    "print('Number of agents:', len(env_info.agents))\n",
    "\n",
    "# number of actions\n",
    "action_size = brain.vector_action_space_size\n",
    "print('Number of actions:', action_size)\n",
    "\n",
    "# examine the state space \n",
    "state = env_info.vector_observations[0]\n",
    "print('States look like:', state)\n",
    "state_size = len(state)\n",
    "print('States have length:', state_size)"
   ]
  },
  {
   "cell_type": "markdown",
   "metadata": {},
   "source": [
    "### 3. Take Random Actions in the Environment\n",
    "\n",
    "In the next code cell, you will learn how to use the Python API to control the agent and receive feedback from the environment.\n",
    "\n",
    "Note that **in this coding environment, you will not be able to watch the agent while it is training**, and you should set `train_mode=True` to restart the environment."
   ]
  },
  {
   "cell_type": "code",
   "execution_count": 5,
   "metadata": {},
   "outputs": [],
   "source": [
    "#env_info = env.reset(train_mode=True)[brain_name] # reset the environment\n",
    "#state = env_info.vector_observations[0]            # get the current state\n",
    "#score = 0                                          # initialize the score\n",
    "#while True:\n",
    "#    action = np.random.randint(action_size)        # select an action\n",
    "#    env_info = env.step(action)[brain_name]        # send the action to the environment\n",
    "#    next_state = env_info.vector_observations[0]   # get the next state\n",
    "#    reward = env_info.rewards[0]                   # get the reward\n",
    "#    done = env_info.local_done[0]                  # see if episode has finished\n",
    "#    score += reward                                # update the score\n",
    "#    state = next_state                             # roll over the state to next time step\n",
    "#    if done:                                       # exit loop if episode finished\n",
    "#        break\n",
    "    \n",
    "#print(\"Score: {}\".format(score))"
   ]
  },
  {
   "cell_type": "markdown",
   "metadata": {},
   "source": [
    "When finished, you can close the environment."
   ]
  },
  {
   "cell_type": "markdown",
   "metadata": {},
   "source": [
    "### 4. It's Your Turn!\n",
    "\n",
    "Now it's your turn to train your own agent to solve the environment!  A few **important notes**:\n",
    "- When training the environment, set `train_mode=True`, so that the line for resetting the environment looks like the following:\n",
    "```python\n",
    "env_info = env.reset(train_mode=True)[brain_name]\n",
    "```\n",
    "- To structure your work, you're welcome to work directly in this Jupyter notebook, or you might like to start over with a new file!  You can see the list of files in the workspace by clicking on **_Jupyter_** in the top left corner of the notebook.\n",
    "- In this coding environment, you will not be able to watch the agent while it is training.  However, **_after training the agent_**, you can download the saved model weights to watch the agent on your own machine! "
   ]
  },
  {
   "cell_type": "code",
   "execution_count": 17,
   "metadata": {},
   "outputs": [],
   "source": [
    "from dqn_agent import Agent\n",
    "from model import QNetwork, DuelingQNetwork\n",
    "\n",
    "# initialize the agent \n",
    "#agent = Agent(state_size=state_size, action_size=action_size, qnetwork=QNetwork, update_type='double_dqn', seed=0)\n",
    "\n",
    "# uncomment the line below to use a dueling architecture\n",
    "agent = Agent(state_size=state_size, action_size=action_size, qnetwork=DuelingQNetwork, update_type='double_dqn', seed=0)"
   ]
  },
  {
   "cell_type": "code",
   "execution_count": 18,
   "metadata": {},
   "outputs": [],
   "source": [
    "def ddqn(n_episodes, max_t, eps_start, eps_end, eps_decay):\n",
    "    \"\"\"\n",
    "    Deep Q-learning\n",
    "    \n",
    "    Params\n",
    "    ======\n",
    "        n_episodes (int): number of training episodes\n",
    "        max_t (int): maximum number of timesteps per episode\n",
    "        eps_start (float): starting value of epsilon, for epsilon-greedy policy \n",
    "        eps_end (float): minimum value of epsilon\n",
    "        eps_decay (float): multiplicative factor (per episode) to decrease epsilon\n",
    "    \"\"\"\n",
    "    \n",
    "    scores = []                                               # list containing scores from each episode                 \n",
    "    scores_window = deque(maxlen=100)                         # store only the last 100 scores\n",
    "    eps = eps_start                                           # initialize epsilon (for epsilon-greedy policy)\n",
    "    \n",
    "    for i_episode in range(1, n_episodes + 1):                # run n_episodes\n",
    "        env_info = env.reset(train_mode=True)[brain_name]     # reset the environment\n",
    "        state = env_info.vector_observations[0]               # get the initial state\n",
    "        score = 0                                             # initialize the score\n",
    "        \n",
    "        for t in range(max_t):                                # run for maximum of max_t timesteps \n",
    "            action = agent.act(state, eps)                    # select the action\n",
    "            env_info = env.step(action)[brain_name] \n",
    "            next_state = env_info.vector_observations[0]      # get the state\n",
    "            reward = env_info.rewards[0]                      # get the reward\n",
    "            done = env_info.local_done[0]                     # whether the episode is complete or not\n",
    "            \n",
    "            agent.step(state, action, reward, next_state, done)  # train the agent \n",
    "            score += reward                                      # update the score\n",
    "            \n",
    "            state = next_state                                   # update the state\n",
    "            if done:                                             # break if episode is complete\n",
    "                break\n",
    "        \n",
    "        scores_window.append(score)                # update the window of scores\n",
    "        scores.append(score)                       # update the list of scores\n",
    "        eps = max(eps_end, eps * eps_decay)        # modify epsilon\n",
    "        average_score = np.mean(scores_window)\n",
    "        print('\\rEpisode {} \\tAverage score: {: .2f}'.format(i_episode, average_score), end=\"\")\n",
    "        \n",
    "        if i_episode % 100 == 0:\n",
    "            print('\\rEpisode {} \\tAverage score: {: .2f}'.format(i_episode, average_score))\n",
    "            \n",
    "        if average_score >= 13:      # check if environment is solved\n",
    "            print('\\nEnvironment solved in {: d} episodes!\\tAverage Score: {: .2f}'.format(i_episode - 100, average_score))\n",
    "            torch.save(agent.qnetwork_local.state_dict(), 'dddqn.pth')\n",
    "            break\n",
    "    \n",
    "    return scores"
   ]
  },
  {
   "cell_type": "code",
   "execution_count": 19,
   "metadata": {},
   "outputs": [],
   "source": [
    "n_episodes = 2000\n",
    "max_t = 2000\n",
    "eps_start = 1.0\n",
    "eps_end = 0.1\n",
    "eps_decay = 0.995"
   ]
  },
  {
   "cell_type": "code",
   "execution_count": 20,
   "metadata": {},
   "outputs": [
    {
     "name": "stdout",
     "output_type": "stream",
     "text": [
      "Episode 100 \tAverage score:  0.41\n",
      "Episode 200 \tAverage score:  3.29\n",
      "Episode 300 \tAverage score:  6.67\n",
      "Episode 400 \tAverage score:  9.30\n",
      "Episode 500 \tAverage score:  12.14\n",
      "Episode 556 \tAverage score:  13.01\n",
      "Environment solved in  456 episodes!\tAverage Score:  13.01\n"
     ]
    }
   ],
   "source": [
    "# train the agent\n",
    "scores = ddqn(n_episodes, max_t, eps_start, eps_end, eps_decay)"
   ]
  },
  {
   "cell_type": "code",
   "execution_count": 21,
   "metadata": {},
   "outputs": [
    {
     "data": {
      "image/png": "[encoded data removed]",
      "text/plain": [
       "<matplotlib.figure.Figure at 0x7f1c734dff60>"
      ]
     },
     "metadata": {
      "needs_background": "light"
     },
     "output_type": "display_data"
    }
   ],
   "source": [
    "import pandas as pd\n",
    "\n",
    "fig, ax = plt.subplots(1, 1, figsize=[10, 5])\n",
    "plt.rcParams.update({'font.size': 14})\n",
    "\n",
    "scores_rolling = pd.Series(scores).rolling(100).mean()\n",
    "ax.plot(scores, \"-\", c=\"blue\", alpha=0.25)\n",
    "ax.plot(scores_rolling, \"-\", c=\"red\", linewidth=2)\n",
    "ax.set_xlabel(\"Episode\")\n",
    "ax.set_ylabel(\"Score\")\n",
    "ax.grid(which=\"major\")\n",
    "ax.axhline(13, c=\"green\", linewidth=3, alpha=0.5)\n",
    "ax.legend([\"Reward per Episode\", \"Average of last 100 Episodes\", \"Target Score\"])\n",
    "\n",
    "fig.tight_layout()\n",
    "fig.savefig(\"plot2.jpg\")"
   ]
  },
  {
   "cell_type": "markdown",
   "metadata": {},
   "source": [
    "### 5. See the result of trained model"
   ]
  },
  {
   "cell_type": "code",
   "execution_count": 23,
   "metadata": {},
   "outputs": [],
   "source": [
    "agent.qnetwork_local.load_state_dict(torch.load('dddqn.pth'))"
   ]
  },
  {
   "cell_type": "code",
   "execution_count": 24,
   "metadata": {},
   "outputs": [
    {
     "name": "stdout",
     "output_type": "stream",
     "text": [
      "Score: 14.0\n"
     ]
    }
   ],
   "source": [
    "env_info = env.reset(train_mode=False)[brain_name] # reset the environment\n",
    "state = env_info.vector_observations[0]            # get the current state\n",
    "score = 0                                          # initialize the score\n",
    "while True:\n",
    "    action = agent.act(state)                      # select an action\n",
    "    env_info = env.step(action)[brain_name]        # send the action to the environment\n",
    "    next_state = env_info.vector_observations[0]   # get the next state\n",
    "    reward = env_info.rewards[0]                   # get the reward\n",
    "    done = env_info.local_done[0]                  # see if episode has finished\n",
    "    score += reward                                # update the score\n",
    "    state = next_state                             # roll over the state to next time step\n",
    "    if done:                                       # exit loop if episode finished\n",
    "        break\n",
    "    \n",
    "print(\"Score: {}\".format(score))"
   ]
  },
  {
   "cell_type": "code",
   "execution_count": null,
   "metadata": {},
   "outputs": [],
   "source": []
  }
 ],
 "metadata": {
  "kernelspec": {
   "display_name": "Python 3",
   "language": "python",
   "name": "python3"
  },
  "language_info": {
   "codemirror_mode": {
    "name": "ipython",
    "version": 3
   },
   "file_extension": ".py",
   "mimetype": "text/x-python",
   "name": "python",
   "nbconvert_exporter": "python",
   "pygments_lexer": "ipython3",
   "version": "3.6.3"
  }
 },
 "nbformat": 4,
 "nbformat_minor": 2
}
